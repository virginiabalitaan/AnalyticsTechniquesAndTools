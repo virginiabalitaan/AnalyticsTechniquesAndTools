{
  "nbformat": 4,
  "nbformat_minor": 0,
  "metadata": {
    "colab": {
      "name": "Reaching New Heights : Boosting Vaccinations for a Safer Community",
      "provenance": [],
      "include_colab_link": true
    },
    "kernelspec": {
      "name": "python3",
      "display_name": "Python 3"
    },
    "language_info": {
      "name": "python"
    }
  },
  "cells": [
    {
      "cell_type": "markdown",
      "metadata": {
        "id": "view-in-github",
        "colab_type": "text"
      },
      "source": [
        "<a href=\"https://colab.research.google.com/github/virginiabalitaan/AnalyticsTechniquesAndTools/blob/main/Reaching_New_Heights_Boosting_Vaccinations_for_a_Safer_Community.ipynb\" target=\"_parent\"><img src=\"https://colab.research.google.com/assets/colab-badge.svg\" alt=\"Open In Colab\"/></a>"
      ]
    },
    {
      "cell_type": "markdown",
      "source": [
        "**Reaching New Heights : Boosting Vaccinations for a Safer Community**\n",
        "\n",
        "---\n",
        "\n"
      ],
      "metadata": {
        "id": "0PdC5Q-draHf"
      }
    },
    {
      "cell_type": "code",
      "source": [
        ""
      ],
      "metadata": {
        "id": "v9_HOaIo-SLT"
      },
      "execution_count": null,
      "outputs": []
    },
    {
      "cell_type": "code",
      "source": [
        ""
      ],
      "metadata": {
        "id": "sqIWTMz3-YxF"
      },
      "execution_count": null,
      "outputs": []
    },
    {
      "cell_type": "code",
      "source": [
        ""
      ],
      "metadata": {
        "id": "hzZO7Kv0_mhT"
      },
      "execution_count": null,
      "outputs": []
    },
    {
      "cell_type": "markdown",
      "source": [
        "The goal of this analysis is to examine the current COVID-19 data in the Philippines as well as the vaccination status in our country. A dataset from Our World in Data will be used to obtain all of the information required to analyze the current trend of daily COVID-19 cases as well as the vaccination rollout in our country. The data will be used to encourage some Filipinos who are still afraid of getting vaccinated to get vaccinated, as well as to provide an analysis of how getting vaccinated will help to reduce overall cases in the country."
      ],
      "metadata": {
        "id": "o6AmBs7GrovE"
      }
    },
    {
      "cell_type": "markdown",
      "source": [
        "Importing all libraries needed in the analysis."
      ],
      "metadata": {
        "id": "LzKPZ-RUi13e"
      }
    },
    {
      "cell_type": "code",
      "source": [
        "import numpy as np\n",
        "import pandas as pd"
      ],
      "metadata": {
        "id": "QwsLYIEUjtLW"
      },
      "execution_count": null,
      "outputs": []
    },
    {
      "cell_type": "markdown",
      "source": [
        "Uploading the **.csv** file"
      ],
      "metadata": {
        "id": "tv2BMjA4YcTj"
      }
    },
    {
      "cell_type": "code",
      "source": [
        "url = 'https://raw.githubusercontent.com/jxblrkrstffrbrms/ITBA3206-SPARTACUS/main/dataset_ph.csv'"
      ],
      "metadata": {
        "id": "EJmoiiIYYgal"
      },
      "execution_count": null,
      "outputs": []
    },
    {
      "cell_type": "markdown",
      "source": [
        "Reading and printing the .csv file"
      ],
      "metadata": {
        "id": "KLCD6VmpboVx"
      }
    },
    {
      "cell_type": "code",
      "source": [
        "df= pd.read_csv(url)\n",
        "print(df)"
      ],
      "metadata": {
        "id": "fTL-Cfy_btLc",
        "outputId": "389b6396-7f8f-4856-a584-eeb1d33f3b5c",
        "colab": {
          "base_uri": "https://localhost:8080/"
        }
      },
      "execution_count": null,
      "outputs": [
        {
          "output_type": "stream",
          "name": "stdout",
          "text": [
            "     continent     location        date  total_cases  new_cases  \\\n",
            "0         Asia  Philippines  30/01/2020            1        1.0   \n",
            "1         Asia  Philippines  31/01/2020            1        0.0   \n",
            "2         Asia  Philippines  01/02/2020            1        0.0   \n",
            "3         Asia  Philippines  02/02/2020            2        1.0   \n",
            "4         Asia  Philippines  03/02/2020            2        0.0   \n",
            "...        ...          ...         ...          ...        ...   \n",
            "1663      Asia        World  28/04/2022     10638632     7116.0   \n",
            "1664      Asia        World  29/04/2022     10644700     6068.0   \n",
            "1665      Asia        World  30/04/2022     10649809     5109.0   \n",
            "1666      Asia        World  01/05/2022     10653526     3717.0   \n",
            "1667      Asia        World  02/05/2022     10656649     3123.0   \n",
            "\n",
            "      new_cases_smoothed  total_deaths  new_deaths  new_deaths_smoothed  \\\n",
            "0                    NaN           NaN         NaN                  NaN   \n",
            "1                    NaN           NaN         NaN                  NaN   \n",
            "2                    NaN           NaN         NaN                  NaN   \n",
            "3                    NaN           1.0         1.0                  NaN   \n",
            "4                    NaN           1.0         0.0                  NaN   \n",
            "...                  ...           ...         ...                  ...   \n",
            "1663           15066.857       43037.0         3.0                6.571   \n",
            "1664           14339.429       43038.0         1.0                5.714   \n",
            "1665           13588.571       43041.0         3.0                5.286   \n",
            "1666           12860.571       43042.0         1.0                4.143   \n",
            "1667           12125.286       43044.0         2.0                3.286   \n",
            "\n",
            "      total_cases_per_million  ...  female_smokers  male_smokers  \\\n",
            "0                       0.009  ...             7.8          40.8   \n",
            "1                       0.009  ...             7.8          40.8   \n",
            "2                       0.009  ...             7.8          40.8   \n",
            "3                       0.018  ...             7.8          40.8   \n",
            "4                       0.018  ...             7.8          40.8   \n",
            "...                       ...  ...             ...           ...   \n",
            "1663               108370.774  ...             1.0          45.9   \n",
            "1664               108432.586  ...             1.0          45.9   \n",
            "1665               108484.629  ...             1.0          45.9   \n",
            "1666               108522.492  ...             1.0          45.9   \n",
            "1667               108554.305  ...             1.0          45.9   \n",
            "\n",
            "      handwashing_facilities  hospital_beds_per_thousand  life_expectancy  \\\n",
            "0                     78.463                         1.0            71.23   \n",
            "1                     78.463                         1.0            71.23   \n",
            "2                     78.463                         1.0            71.23   \n",
            "3                     78.463                         1.0            71.23   \n",
            "4                     78.463                         1.0            71.23   \n",
            "...                      ...                         ...              ...   \n",
            "1663                  85.847                         2.6            75.40   \n",
            "1664                  85.847                         2.6            75.40   \n",
            "1665                  85.847                         2.6            75.40   \n",
            "1666                  85.847                         2.6            75.40   \n",
            "1667                  85.847                         2.6            75.40   \n",
            "\n",
            "      human_development_index  excess_mortality_cumulative_absolute  \\\n",
            "0                       0.718                                   NaN   \n",
            "1                       0.718                               -1699.0   \n",
            "2                       0.718                                   NaN   \n",
            "3                       0.718                                   NaN   \n",
            "4                       0.718                                   NaN   \n",
            "...                       ...                                   ...   \n",
            "1663                    0.704                                   NaN   \n",
            "1664                    0.704                                   NaN   \n",
            "1665                    0.704                                   NaN   \n",
            "1666                    0.704                                   NaN   \n",
            "1667                    0.704                                   NaN   \n",
            "\n",
            "      excess_mortality_cumulative  excess_mortality  \\\n",
            "0                             NaN               NaN   \n",
            "1                           -3.08             -3.08   \n",
            "2                             NaN               NaN   \n",
            "3                             NaN               NaN   \n",
            "4                             NaN               NaN   \n",
            "...                           ...               ...   \n",
            "1663                          NaN               NaN   \n",
            "1664                          NaN               NaN   \n",
            "1665                          NaN               NaN   \n",
            "1666                          NaN               NaN   \n",
            "1667                          NaN               NaN   \n",
            "\n",
            "      excess_mortality_cumulative_per_million  \n",
            "0                                         NaN  \n",
            "1                                   -15.29984  \n",
            "2                                         NaN  \n",
            "3                                         NaN  \n",
            "4                                         NaN  \n",
            "...                                       ...  \n",
            "1663                                      NaN  \n",
            "1664                                      NaN  \n",
            "1665                                      NaN  \n",
            "1666                                      NaN  \n",
            "1667                                      NaN  \n",
            "\n",
            "[1668 rows x 66 columns]\n"
          ]
        }
      ]
    },
    {
      "cell_type": "markdown",
      "source": [
        "The dataset our team got contains all the data regarding COVID-19 around the world.\n",
        "\n",
        "Since what we'll need for the analysis is only for our country which is the Philippines, we need to delete unnecessary rows and columns from our dataset. Also, cleaning the dataset is essential for us to have accurate results."
      ],
      "metadata": {
        "id": "O2OwtkX9svGp"
      }
    },
    {
      "cell_type": "markdown",
      "source": [
        "*Deleting Unnecessary Rows*"
      ],
      "metadata": {
        "id": "ijf8WVfCd7pP"
      }
    },
    {
      "cell_type": "code",
      "source": [
        "df1= pd.DataFrame(df)\n",
        "df1.drop(['new_cases_smoothed', \n",
        "          'new_deaths_smoothed', \n",
        "          'excess_mortality', \n",
        "          'excess_mortality_cumulative_per_million', \n",
        "          'new_cases_smoothed_per_million', \n",
        "          'excess_mortality_cumulative_absolute', \n",
        "          'excess_mortality_cumulative', \n",
        "          'gdp_per_capita', \n",
        "          'extreme_poverty', \n",
        "          'cardiovasc_death_rate',\n",
        "          'human_development_index',\n",
        "          'life_expectancy',\n",
        "          'hospital_beds_per_thousand',\n",
        "          'diabetes_prevalence',\n",
        "          'population_density',\n",
        "          'stringency_index',\n",
        "          'new_people_vaccinated_smoothed_per_hundred',\n",
        "          'new_people_vaccinated_smoothed',\n",
        "          'new_vaccinations_smoothed_per_million',\n",
        "          'new_vaccinations_smoothed',\n",
        "          'new_tests_smoothed_per_thousand',\n",
        "          'new_tests_smoothed',\n",
        "          'weekly_hosp_admissions_per_million',\n",
        "          'weekly_icu_admissions_per_million',\n",
        "          'hosp_patients_per_million',\n",
        "          'icu_patients_per_million',\n",
        "          'new_deaths_smoothed_per_million'], axis = 1, inplace=True)\n",
        "print(df1)"
      ],
      "metadata": {
        "id": "kJPg96aeeGId",
        "outputId": "5fe7d7ef-4dc5-42e9-920b-0a15bedc9c31",
        "colab": {
          "base_uri": "https://localhost:8080/"
        }
      },
      "execution_count": null,
      "outputs": [
        {
          "output_type": "stream",
          "name": "stdout",
          "text": [
            "     continent     location        date  total_cases  new_cases  total_deaths  \\\n",
            "0         Asia  Philippines  30/01/2020            1        1.0           NaN   \n",
            "1         Asia  Philippines  31/01/2020            1        0.0           NaN   \n",
            "2         Asia  Philippines  01/02/2020            1        0.0           NaN   \n",
            "3         Asia  Philippines  02/02/2020            2        1.0           1.0   \n",
            "4         Asia  Philippines  03/02/2020            2        0.0           1.0   \n",
            "...        ...          ...         ...          ...        ...           ...   \n",
            "1663      Asia        World  28/04/2022     10638632     7116.0       43037.0   \n",
            "1664      Asia        World  29/04/2022     10644700     6068.0       43038.0   \n",
            "1665      Asia        World  30/04/2022     10649809     5109.0       43041.0   \n",
            "1666      Asia        World  01/05/2022     10653526     3717.0       43042.0   \n",
            "1667      Asia        World  02/05/2022     10656649     3123.0       43044.0   \n",
            "\n",
            "      new_deaths  total_cases_per_million  new_cases_per_million  \\\n",
            "0            NaN                    0.009                  0.009   \n",
            "1            NaN                    0.009                  0.000   \n",
            "2            NaN                    0.009                  0.000   \n",
            "3            1.0                    0.018                  0.009   \n",
            "4            0.0                    0.018                  0.000   \n",
            "...          ...                      ...                    ...   \n",
            "1663         3.0               108370.774                 72.487   \n",
            "1664         1.0               108432.586                 61.812   \n",
            "1665         3.0               108484.629                 52.043   \n",
            "1666         1.0               108522.492                 37.863   \n",
            "1667         2.0               108554.305                 31.813   \n",
            "\n",
            "      total_deaths_per_million  ...  people_vaccinated_per_hundred  \\\n",
            "0                          NaN  ...                            NaN   \n",
            "1                          NaN  ...                            NaN   \n",
            "2                          NaN  ...                            NaN   \n",
            "3                        0.009  ...                            NaN   \n",
            "4                        0.009  ...                            NaN   \n",
            "...                        ...  ...                            ...   \n",
            "1663                   438.398  ...                            NaN   \n",
            "1664                   438.408  ...                            NaN   \n",
            "1665                   438.439  ...                            NaN   \n",
            "1666                   438.449  ...                            NaN   \n",
            "1667                   438.469  ...                            NaN   \n",
            "\n",
            "      people_fully_vaccinated_per_hundred  total_boosters_per_hundred  \\\n",
            "0                                     NaN                         NaN   \n",
            "1                                     NaN                         NaN   \n",
            "2                                     NaN                         NaN   \n",
            "3                                     NaN                         NaN   \n",
            "4                                     NaN                         NaN   \n",
            "...                                   ...                         ...   \n",
            "1663                                  NaN                         NaN   \n",
            "1664                                  NaN                         NaN   \n",
            "1665                                  NaN                         NaN   \n",
            "1666                                  NaN                         NaN   \n",
            "1667                                  NaN                         NaN   \n",
            "\n",
            "      population  median_age  aged_65_older  aged_70_older  female_smokers  \\\n",
            "0      111046910        25.2          4.803          2.661             7.8   \n",
            "1      111046910        25.2          4.803          2.661             7.8   \n",
            "2      111046910        25.2          4.803          2.661             7.8   \n",
            "3      111046910        25.2          4.803          2.661             7.8   \n",
            "4      111046910        25.2          4.803          2.661             7.8   \n",
            "...          ...         ...            ...            ...             ...   \n",
            "1663    98168829        32.6          7.150          4.718             1.0   \n",
            "1664    98168829        32.6          7.150          4.718             1.0   \n",
            "1665    98168829        32.6          7.150          4.718             1.0   \n",
            "1666    98168829        32.6          7.150          4.718             1.0   \n",
            "1667    98168829        32.6          7.150          4.718             1.0   \n",
            "\n",
            "      male_smokers  handwashing_facilities  \n",
            "0             40.8                  78.463  \n",
            "1             40.8                  78.463  \n",
            "2             40.8                  78.463  \n",
            "3             40.8                  78.463  \n",
            "4             40.8                  78.463  \n",
            "...            ...                     ...  \n",
            "1663          45.9                  85.847  \n",
            "1664          45.9                  85.847  \n",
            "1665          45.9                  85.847  \n",
            "1666          45.9                  85.847  \n",
            "1667          45.9                  85.847  \n",
            "\n",
            "[1668 rows x 39 columns]\n"
          ]
        }
      ]
    },
    {
      "cell_type": "markdown",
      "source": [
        "As you can see, there are NaN values inside the dataset. There are two options. Either delete them, or replace them with a new value. For this, we will replace specified columns with NaN values."
      ],
      "metadata": {
        "id": "Rx1ruAX4-LcE"
      }
    },
    {
      "cell_type": "code",
      "source": [
        "df1.fillna(0, inplace = True)\n",
        "print(df1)a = np.array(ph_ver['people_fully_vaccinated'])\n",
        "\n",
        "plt.ticklabel_format(style='plain')\n",
        "plt.plot(a, c='#063c72')\n",
        "plt.title(\"PEOPLE FULLY VACCINATED IN THE PHILIPPINES\")\n",
        "plt.xlabel(\"Days\")\n",
        "plt.ylabel(\"Number of People Vaccinated\")\n",
        "plt.grid(axis='y')\n",
        "\n",
        "plt.show()"
      ],
      "metadata": {
        "id": "xyRJpCMcGGos"
      },
      "execution_count": null,
      "outputs": []
    }
  ]
}